{
 "cells": [
  {
   "cell_type": "markdown",
   "id": "3175504c",
   "metadata": {},
   "source": [
    "# POMDPs"
   ]
  },
  {
   "cell_type": "code",
   "execution_count": 18,
   "id": "8ff1962b",
   "metadata": {},
   "outputs": [
    {
     "name": "stdout",
     "output_type": "stream",
     "text": [
      "ModelType.POMDP\n"
     ]
    }
   ],
   "source": [
    "import stormpy\n",
    "import stormpy.pomdp\n",
    "\n",
    "program = stormpy.parse_prism_program('storm_files/maze2.prism')\n",
    "prop = \"R=? [F \\\"goal\\\"]\"\n",
    "properties = stormpy.parse_properties_for_prism_program(prop, program, None)\n",
    "model = stormpy.build_model(program, properties)\n",
    "print(model.model_type)"
   ]
  },
  {
   "cell_type": "code",
   "execution_count": 4,
   "id": "363d8f1e",
   "metadata": {},
   "outputs": [
    {
     "name": "stdout",
     "output_type": "stream",
     "text": [
      "8\n",
      "State 0 has observation id 6\n",
      "State 1 has observation id 1\n",
      "State 2 has observation id 4\n",
      "State 3 has observation id 7\n",
      "State 4 has observation id 4\n",
      "State 5 has observation id 3\n",
      "State 6 has observation id 0\n",
      "State 7 has observation id 0\n",
      "State 8 has observation id 0\n",
      "State 9 has observation id 0\n",
      "State 10 has observation id 0\n",
      "State 11 has observation id 0\n",
      "State 12 has observation id 2\n",
      "State 13 has observation id 5\n",
      "State 14 has observation id 2\n"
     ]
    }
   ],
   "source": [
    "print(model.nr_observations)\n",
    "for state in model.states:\n",
    "    print(\"State {} has observation id {}\".format(state.id, model.observations[state.id]))"
   ]
  },
  {
   "cell_type": "code",
   "execution_count": 19,
   "id": "71294ab2",
   "metadata": {},
   "outputs": [
    {
     "name": "stdout",
     "output_type": "stream",
     "text": [
      "ERROR (verification.h:341): The model type POMDP is not supported by the sparse engine.\n"
     ]
    },
    {
     "ename": "RuntimeError",
     "evalue": "NotSupportedException: The model type POMDP is not supported by the sparse engine.",
     "output_type": "error",
     "traceback": [
      "\u001b[0;31m---------------------------------------------------------------------------\u001b[0m",
      "\u001b[0;31mRuntimeError\u001b[0m                              Traceback (most recent call last)",
      "Input \u001b[0;32mIn [19]\u001b[0m, in \u001b[0;36m<cell line: 1>\u001b[0;34m()\u001b[0m\n\u001b[0;32m----> 1\u001b[0m result \u001b[38;5;241m=\u001b[39m \u001b[43mstormpy\u001b[49m\u001b[38;5;241;43m.\u001b[39;49m\u001b[43mmodel_checking\u001b[49m\u001b[43m(\u001b[49m\u001b[43mmodel\u001b[49m\u001b[43m,\u001b[49m\u001b[43m \u001b[49m\u001b[43mproperties\u001b[49m\u001b[43m[\u001b[49m\u001b[38;5;241;43m0\u001b[39;49m\u001b[43m]\u001b[49m\u001b[43m)\u001b[49m\n\u001b[1;32m      2\u001b[0m \u001b[38;5;28mprint\u001b[39m(\u001b[38;5;124m\"\u001b[39m\u001b[38;5;124mResult: \u001b[39m\u001b[38;5;132;01m{}\u001b[39;00m\u001b[38;5;124m\"\u001b[39m\u001b[38;5;241m.\u001b[39mformat(\u001b[38;5;28mround\u001b[39m(result\u001b[38;5;241m.\u001b[39mat(\u001b[38;5;241m0\u001b[39m), \u001b[38;5;241m6\u001b[39m)))\n",
      "File \u001b[0;32m~/stormpy/lib/stormpy/__init__.py:271\u001b[0m, in \u001b[0;36mmodel_checking\u001b[0;34m(model, property, only_initial_states, extract_scheduler, force_fully_observable, environment)\u001b[0m\n\u001b[1;32m    261\u001b[0m \u001b[38;5;124;03m\"\"\"\u001b[39;00m\n\u001b[1;32m    262\u001b[0m \u001b[38;5;124;03mPerform model checking on model for property.\u001b[39;00m\n\u001b[1;32m    263\u001b[0m \u001b[38;5;124;03m:param model: Model.\u001b[39;00m\n\u001b[0;32m   (...)\u001b[0m\n\u001b[1;32m    268\u001b[0m \u001b[38;5;124;03m:rtype: CheckResult\u001b[39;00m\n\u001b[1;32m    269\u001b[0m \u001b[38;5;124;03m\"\"\"\u001b[39;00m\n\u001b[1;32m    270\u001b[0m \u001b[38;5;28;01mif\u001b[39;00m model\u001b[38;5;241m.\u001b[39mis_sparse_model:\n\u001b[0;32m--> 271\u001b[0m     \u001b[38;5;28;01mreturn\u001b[39;00m \u001b[43mcheck_model_sparse\u001b[49m\u001b[43m(\u001b[49m\u001b[43mmodel\u001b[49m\u001b[43m,\u001b[49m\u001b[43m \u001b[49m\u001b[38;5;28;43mproperty\u001b[39;49m\u001b[43m,\u001b[49m\u001b[43m \u001b[49m\u001b[43monly_initial_states\u001b[49m\u001b[38;5;241;43m=\u001b[39;49m\u001b[43monly_initial_states\u001b[49m\u001b[43m,\u001b[49m\n\u001b[1;32m    272\u001b[0m \u001b[43m                              \u001b[49m\u001b[43mextract_scheduler\u001b[49m\u001b[38;5;241;43m=\u001b[39;49m\u001b[43mextract_scheduler\u001b[49m\u001b[43m,\u001b[49m\u001b[43m \u001b[49m\u001b[43mforce_fully_observable\u001b[49m\u001b[38;5;241;43m=\u001b[39;49m\u001b[43mforce_fully_observable\u001b[49m\u001b[43m,\u001b[49m\u001b[43m \u001b[49m\u001b[43menvironment\u001b[49m\u001b[38;5;241;43m=\u001b[39;49m\u001b[43menvironment\u001b[49m\u001b[43m)\u001b[49m\n\u001b[1;32m    273\u001b[0m \u001b[38;5;28;01melse\u001b[39;00m:\n\u001b[1;32m    274\u001b[0m     \u001b[38;5;28;01massert\u001b[39;00m (model\u001b[38;5;241m.\u001b[39mis_symbolic_model)\n",
      "File \u001b[0;32m~/stormpy/lib/stormpy/__init__.py:326\u001b[0m, in \u001b[0;36mcheck_model_sparse\u001b[0;34m(model, property, only_initial_states, extract_scheduler, force_fully_observable, environment)\u001b[0m\n\u001b[1;32m    324\u001b[0m task \u001b[38;5;241m=\u001b[39m core\u001b[38;5;241m.\u001b[39mCheckTask(formula, only_initial_states)\n\u001b[1;32m    325\u001b[0m task\u001b[38;5;241m.\u001b[39mset_produce_schedulers(extract_scheduler)\n\u001b[0;32m--> 326\u001b[0m \u001b[38;5;28;01mreturn\u001b[39;00m \u001b[43mcore\u001b[49m\u001b[38;5;241;43m.\u001b[39;49m\u001b[43m_model_checking_sparse_engine\u001b[49m\u001b[43m(\u001b[49m\u001b[43mmodel\u001b[49m\u001b[43m,\u001b[49m\u001b[43m \u001b[49m\u001b[43mtask\u001b[49m\u001b[43m,\u001b[49m\u001b[43m \u001b[49m\u001b[43menvironment\u001b[49m\u001b[38;5;241;43m=\u001b[39;49m\u001b[43menvironment\u001b[49m\u001b[43m)\u001b[49m\n",
      "\u001b[0;31mRuntimeError\u001b[0m: NotSupportedException: The model type POMDP is not supported by the sparse engine."
     ]
    }
   ],
   "source": [
    "result = stormpy.model_checking(model, properties[0])\n",
    "print(\"Result: {}\".format(round(result.at(0), 6)))"
   ]
  },
  {
   "cell_type": "code",
   "execution_count": 35,
   "id": "0be70a96",
   "metadata": {},
   "outputs": [
    {
     "name": "stdout",
     "output_type": "stream",
     "text": [
      "ModelType.POMDP\n"
     ]
    }
   ],
   "source": [
    "def build_pomdp(program):\n",
    "    options = stormpy.BuilderOptions([])\n",
    "    options.set_build_state_valuations()\n",
    "    options.set_build_choice_labels()\n",
    "    options.set_build_all_labels()\n",
    "    options.set_build_all_reward_models()\n",
    "\n",
    "    model =  stormpy.build_sparse_model_with_options(program, options)\n",
    "    model = stormpy.pomdp.make_canonic(model)\n",
    "    return model\n",
    "\n",
    "\n",
    "prism_program = stormpy.parse_prism_program('storm_files/maze2.prism')\n",
    "prop = stormpy.parse_properties_for_prism_program(\"R=? [F \\\"goal\\\"]\", prism_program)[0]\n",
    "model = build_pomdp(prism_program)\n",
    "print(model.model_type)\n"
   ]
  },
  {
   "cell_type": "code",
   "execution_count": 41,
   "id": "1b8bd5d1",
   "metadata": {},
   "outputs": [
    {
     "ename": "RuntimeError",
     "evalue": "std::bad_cast",
     "output_type": "error",
     "traceback": [
      "\u001b[0;31m---------------------------------------------------------------------------\u001b[0m",
      "\u001b[0;31mRuntimeError\u001b[0m                              Traceback (most recent call last)",
      "Input \u001b[0;32mIn [41]\u001b[0m, in \u001b[0;36m<cell line: 2>\u001b[0;34m()\u001b[0m\n\u001b[1;32m      1\u001b[0m options \u001b[38;5;241m=\u001b[39m stormpy\u001b[38;5;241m.\u001b[39mpomdp\u001b[38;5;241m.\u001b[39mIterativeQualitativeSearchOptions()\n\u001b[0;32m----> 2\u001b[0m solver \u001b[38;5;241m=\u001b[39m \u001b[43mstormpy\u001b[49m\u001b[38;5;241;43m.\u001b[39;49m\u001b[43mpomdp\u001b[49m\u001b[38;5;241;43m.\u001b[39;49m\u001b[43mcreate_iterative_qualitative_search_solver_Double\u001b[49m\u001b[43m(\u001b[49m\u001b[43mmodel\u001b[49m\u001b[43m,\u001b[49m\u001b[43m  \u001b[49m\u001b[43mprop\u001b[49m\u001b[38;5;241;43m.\u001b[39;49m\u001b[43mraw_formula\u001b[49m\u001b[43m,\u001b[49m\u001b[43m \u001b[49m\u001b[43moptions\u001b[49m\u001b[43m)\u001b[49m\n\u001b[1;32m      3\u001b[0m result \u001b[38;5;241m=\u001b[39m solver\u001b[38;5;241m.\u001b[39mcompute_winning_policy_for_initial_states(\u001b[38;5;241m100\u001b[39m)\n",
      "\u001b[0;31mRuntimeError\u001b[0m: std::bad_cast"
     ]
    }
   ],
   "source": [
    "options = stormpy.pomdp.IterativeQualitativeSearchOptions()\n",
    "solver = stormpy.pomdp.create_iterative_qualitative_search_solver_Double(model,  prop.raw_formula, options)\n",
    "result = solver.compute_winning_policy_for_initial_states(100)"
   ]
  },
  {
   "cell_type": "code",
   "execution_count": 45,
   "id": "93095f3d",
   "metadata": {},
   "outputs": [
    {
     "ename": "FileNotFoundError",
     "evalue": "[Errno 2] No such file or directory: '/home/scarr/storm/build/bin/storm-pomdp --prism storm_files/maze2.prism --prop \"Pmax=? [!\"bad\" U \"goal\"]\" --qualitative-analysis -const \"sl=0.3\" --memlesssearch iterative'",
     "output_type": "error",
     "traceback": [
      "\u001b[0;31m---------------------------------------------------------------------------\u001b[0m",
      "\u001b[0;31mFileNotFoundError\u001b[0m                         Traceback (most recent call last)",
      "Input \u001b[0;32mIn [45]\u001b[0m, in \u001b[0;36m<cell line: 5>\u001b[0;34m()\u001b[0m\n\u001b[1;32m      1\u001b[0m \u001b[38;5;28;01mimport\u001b[39;00m \u001b[38;5;21;01msubprocess\u001b[39;00m\n\u001b[1;32m      3\u001b[0m storm_dir \u001b[38;5;241m=\u001b[39m \u001b[38;5;124m'\u001b[39m\u001b[38;5;124m/home/scarr/storm/\u001b[39m\u001b[38;5;124m'\u001b[39m\n\u001b[0;32m----> 5\u001b[0m \u001b[43msubprocess\u001b[49m\u001b[38;5;241;43m.\u001b[39;49m\u001b[43mrun\u001b[49m\u001b[43m(\u001b[49m\u001b[43mstorm_dir\u001b[49m\u001b[38;5;241;43m+\u001b[39;49m\u001b[38;5;124;43m'\u001b[39;49m\u001b[38;5;124;43mbuild/bin/storm-pomdp --prism storm_files/maze2.prism --prop \u001b[39;49m\u001b[38;5;124;43m\"\u001b[39;49m\u001b[38;5;124;43mPmax=? [!\u001b[39;49m\u001b[38;5;130;43;01m\\\"\u001b[39;49;00m\u001b[38;5;124;43mbad\u001b[39;49m\u001b[38;5;130;43;01m\\\"\u001b[39;49;00m\u001b[38;5;124;43m U \u001b[39;49m\u001b[38;5;130;43;01m\\\"\u001b[39;49;00m\u001b[38;5;124;43mgoal\u001b[39;49m\u001b[38;5;130;43;01m\\\"\u001b[39;49;00m\u001b[38;5;124;43m]\u001b[39;49m\u001b[38;5;124;43m\"\u001b[39;49m\u001b[38;5;124;43m --qualitative-analysis -const \u001b[39;49m\u001b[38;5;124;43m\"\u001b[39;49m\u001b[38;5;124;43msl=0.3\u001b[39;49m\u001b[38;5;124;43m\"\u001b[39;49m\u001b[38;5;124;43m --memlesssearch iterative\u001b[39;49m\u001b[38;5;124;43m'\u001b[39;49m\u001b[43m)\u001b[49m\n",
      "File \u001b[0;32m/usr/lib/python3.8/subprocess.py:493\u001b[0m, in \u001b[0;36mrun\u001b[0;34m(input, capture_output, timeout, check, *popenargs, **kwargs)\u001b[0m\n\u001b[1;32m    490\u001b[0m     kwargs[\u001b[38;5;124m'\u001b[39m\u001b[38;5;124mstdout\u001b[39m\u001b[38;5;124m'\u001b[39m] \u001b[38;5;241m=\u001b[39m PIPE\n\u001b[1;32m    491\u001b[0m     kwargs[\u001b[38;5;124m'\u001b[39m\u001b[38;5;124mstderr\u001b[39m\u001b[38;5;124m'\u001b[39m] \u001b[38;5;241m=\u001b[39m PIPE\n\u001b[0;32m--> 493\u001b[0m \u001b[38;5;28;01mwith\u001b[39;00m \u001b[43mPopen\u001b[49m\u001b[43m(\u001b[49m\u001b[38;5;241;43m*\u001b[39;49m\u001b[43mpopenargs\u001b[49m\u001b[43m,\u001b[49m\u001b[43m \u001b[49m\u001b[38;5;241;43m*\u001b[39;49m\u001b[38;5;241;43m*\u001b[39;49m\u001b[43mkwargs\u001b[49m\u001b[43m)\u001b[49m \u001b[38;5;28;01mas\u001b[39;00m process:\n\u001b[1;32m    494\u001b[0m     \u001b[38;5;28;01mtry\u001b[39;00m:\n\u001b[1;32m    495\u001b[0m         stdout, stderr \u001b[38;5;241m=\u001b[39m process\u001b[38;5;241m.\u001b[39mcommunicate(\u001b[38;5;28minput\u001b[39m, timeout\u001b[38;5;241m=\u001b[39mtimeout)\n",
      "File \u001b[0;32m/usr/lib/python3.8/subprocess.py:858\u001b[0m, in \u001b[0;36mPopen.__init__\u001b[0;34m(self, args, bufsize, executable, stdin, stdout, stderr, preexec_fn, close_fds, shell, cwd, env, universal_newlines, startupinfo, creationflags, restore_signals, start_new_session, pass_fds, encoding, errors, text)\u001b[0m\n\u001b[1;32m    854\u001b[0m         \u001b[38;5;28;01mif\u001b[39;00m \u001b[38;5;28mself\u001b[39m\u001b[38;5;241m.\u001b[39mtext_mode:\n\u001b[1;32m    855\u001b[0m             \u001b[38;5;28mself\u001b[39m\u001b[38;5;241m.\u001b[39mstderr \u001b[38;5;241m=\u001b[39m io\u001b[38;5;241m.\u001b[39mTextIOWrapper(\u001b[38;5;28mself\u001b[39m\u001b[38;5;241m.\u001b[39mstderr,\n\u001b[1;32m    856\u001b[0m                     encoding\u001b[38;5;241m=\u001b[39mencoding, errors\u001b[38;5;241m=\u001b[39merrors)\n\u001b[0;32m--> 858\u001b[0m     \u001b[38;5;28;43mself\u001b[39;49m\u001b[38;5;241;43m.\u001b[39;49m\u001b[43m_execute_child\u001b[49m\u001b[43m(\u001b[49m\u001b[43margs\u001b[49m\u001b[43m,\u001b[49m\u001b[43m \u001b[49m\u001b[43mexecutable\u001b[49m\u001b[43m,\u001b[49m\u001b[43m \u001b[49m\u001b[43mpreexec_fn\u001b[49m\u001b[43m,\u001b[49m\u001b[43m \u001b[49m\u001b[43mclose_fds\u001b[49m\u001b[43m,\u001b[49m\n\u001b[1;32m    859\u001b[0m \u001b[43m                        \u001b[49m\u001b[43mpass_fds\u001b[49m\u001b[43m,\u001b[49m\u001b[43m \u001b[49m\u001b[43mcwd\u001b[49m\u001b[43m,\u001b[49m\u001b[43m \u001b[49m\u001b[43menv\u001b[49m\u001b[43m,\u001b[49m\n\u001b[1;32m    860\u001b[0m \u001b[43m                        \u001b[49m\u001b[43mstartupinfo\u001b[49m\u001b[43m,\u001b[49m\u001b[43m \u001b[49m\u001b[43mcreationflags\u001b[49m\u001b[43m,\u001b[49m\u001b[43m \u001b[49m\u001b[43mshell\u001b[49m\u001b[43m,\u001b[49m\n\u001b[1;32m    861\u001b[0m \u001b[43m                        \u001b[49m\u001b[43mp2cread\u001b[49m\u001b[43m,\u001b[49m\u001b[43m \u001b[49m\u001b[43mp2cwrite\u001b[49m\u001b[43m,\u001b[49m\n\u001b[1;32m    862\u001b[0m \u001b[43m                        \u001b[49m\u001b[43mc2pread\u001b[49m\u001b[43m,\u001b[49m\u001b[43m \u001b[49m\u001b[43mc2pwrite\u001b[49m\u001b[43m,\u001b[49m\n\u001b[1;32m    863\u001b[0m \u001b[43m                        \u001b[49m\u001b[43merrread\u001b[49m\u001b[43m,\u001b[49m\u001b[43m \u001b[49m\u001b[43merrwrite\u001b[49m\u001b[43m,\u001b[49m\n\u001b[1;32m    864\u001b[0m \u001b[43m                        \u001b[49m\u001b[43mrestore_signals\u001b[49m\u001b[43m,\u001b[49m\u001b[43m \u001b[49m\u001b[43mstart_new_session\u001b[49m\u001b[43m)\u001b[49m\n\u001b[1;32m    865\u001b[0m \u001b[38;5;28;01mexcept\u001b[39;00m:\n\u001b[1;32m    866\u001b[0m     \u001b[38;5;66;03m# Cleanup if the child failed starting.\u001b[39;00m\n\u001b[1;32m    867\u001b[0m     \u001b[38;5;28;01mfor\u001b[39;00m f \u001b[38;5;129;01min\u001b[39;00m \u001b[38;5;28mfilter\u001b[39m(\u001b[38;5;28;01mNone\u001b[39;00m, (\u001b[38;5;28mself\u001b[39m\u001b[38;5;241m.\u001b[39mstdin, \u001b[38;5;28mself\u001b[39m\u001b[38;5;241m.\u001b[39mstdout, \u001b[38;5;28mself\u001b[39m\u001b[38;5;241m.\u001b[39mstderr)):\n",
      "File \u001b[0;32m/usr/lib/python3.8/subprocess.py:1704\u001b[0m, in \u001b[0;36mPopen._execute_child\u001b[0;34m(self, args, executable, preexec_fn, close_fds, pass_fds, cwd, env, startupinfo, creationflags, shell, p2cread, p2cwrite, c2pread, c2pwrite, errread, errwrite, restore_signals, start_new_session)\u001b[0m\n\u001b[1;32m   1702\u001b[0m     \u001b[38;5;28;01mif\u001b[39;00m errno_num \u001b[38;5;241m!=\u001b[39m \u001b[38;5;241m0\u001b[39m:\n\u001b[1;32m   1703\u001b[0m         err_msg \u001b[38;5;241m=\u001b[39m os\u001b[38;5;241m.\u001b[39mstrerror(errno_num)\n\u001b[0;32m-> 1704\u001b[0m     \u001b[38;5;28;01mraise\u001b[39;00m child_exception_type(errno_num, err_msg, err_filename)\n\u001b[1;32m   1705\u001b[0m \u001b[38;5;28;01mraise\u001b[39;00m child_exception_type(err_msg)\n",
      "\u001b[0;31mFileNotFoundError\u001b[0m: [Errno 2] No such file or directory: '/home/scarr/storm/build/bin/storm-pomdp --prism storm_files/maze2.prism --prop \"Pmax=? [!\"bad\" U \"goal\"]\" --qualitative-analysis -const \"sl=0.3\" --memlesssearch iterative'"
     ]
    }
   ],
   "source": [
    "import subprocess\n",
    "\n",
    "storm_dir = '/home/scarr/storm/'\n",
    "\n",
    "subprocess.run(storm_dir+'build/bin/storm-pomdp --prism storm_files/maze2.prism --prop \"Pmax=? [!\\\"bad\\\" U \\\"goal\\\"]\" --qualitative-analysis -const \"sl=0.3\" --memlesssearch iterative')"
   ]
  },
  {
   "cell_type": "markdown",
   "id": "b90de3f9",
   "metadata": {},
   "source": [
    "# POMDP Shields"
   ]
  },
  {
   "cell_type": "code",
   "execution_count": 47,
   "id": "c268026a",
   "metadata": {},
   "outputs": [
    {
     "name": "stdout",
     "output_type": "stream",
     "text": [
      "pomdp\n",
      "\n",
      "observables\n",
      "start\n",
      "endobservables\n",
      "\n",
      "const int N=6;\n",
      "const int axMAX = N-1;\n",
      "const int ayMAX = N-1;\n",
      "const int axMIN = 0;\n",
      "const int ayMIN = 0;\n",
      "const double slippery = 0.1;\n",
      "const int ob1x = axMAX-1;\n",
      "const int ob1y = ayMAX-1;\n",
      "const int ob2x = axMAX;\n",
      "const int ob2y = ayMIN+1;\n",
      "const int ob3x = axMIN+1;\n",
      "const int ob3y = ayMIN;\n",
      "const int ob4x = axMAX;\n",
      "const int ob4y = ayMAX-1;\n",
      "const int ob5x = axMAX-3;\n",
      "const int ob5y = ayMAX-1;\n",
      "\n",
      "formula done = start & ax = axMAX & ay = ayMAX;\n",
      "observable \"amdone\" = done;\n",
      "formula crash =  (ax = ob1x & ay = ob1y) | (ax = ob2x & ay = ob2y)  | (ax = ob3x & ay = ob3y) | (ax = ob4x & ay = ob4y) | (ax = ob5x & ay = ob5y)  ;\n",
      "observable \"hascrash\" = crash;\n",
      "\n",
      "\n",
      "module master\n",
      "    start : bool init false;\n",
      "\n",
      "    [placement] !start -> (start'=true);\n",
      "    [north] start & !done -> true;\n",
      "    [south] start  & !done -> true;\n",
      "    [east] start  & !done-> true;\n",
      "    [west] start & !done -> true;\n",
      "\n",
      "\n",
      "endmodule\n",
      "\n",
      "\n",
      "module robot\n",
      "    ax : [axMIN..axMAX] init 0;\n",
      "    ay : [ayMIN..ayMAX] init 0;\n",
      "    slipped : bool init false;\n",
      "\n",
      "    [placement] true ->  1/4: (ax'=ob1x-1) & (ay'=ob1y) + 1/4: (ax'=1) & (ay'=1) + 1/4: (ax'=2) & (ay'=1) + 1/4: (ax'=1) & (ay'=3);\n",
      "\n",
      "    [west] true -> (1-slippery): (ax'=max(ax-1,axMIN)) + slippery: (ax'=max(ax-2,axMIN));\n",
      "    [east] true -> (1-slippery): (ax'=min(ax+1,axMAX)) + slippery: (ax'=min(ax+2,axMAX));\n",
      "    [south]  true -> (1-slippery): (ay'=min(ay+1,ayMAX)) + slippery: (ay'=min(ay+2,ayMAX));\n",
      "    [north]  true -> (1-slippery): (ay'=max(ay-1,ayMIN)) + slippery: (ay'=max(ay-2,ayMIN));\n",
      "endmodule\n",
      "\n",
      "\n",
      "label \"goal\" = done;\n",
      "label \"traps\" = crash;\n",
      "label \"notbad\" =  !crash;\n",
      "\n",
      "rewards \"costs\"\n",
      "    [north] true : 1;\n",
      "    [south] true : 1;\n",
      "    [west] true : 1;\n",
      "    [east] true : 1;\n",
      "    crash = true:100; \n",
      "endrewards\n",
      "\n",
      "rewards \"gains\"\n",
      "    done=true : 100;\n",
      "endrewards\n",
      "\n"
     ]
    }
   ],
   "source": [
    "with open('storm_files/obstacle.nm') as f:\n",
    "    print(f.read())"
   ]
  },
  {
   "cell_type": "markdown",
   "id": "ff76a055",
   "metadata": {},
   "source": [
    "### Shield functions"
   ]
  },
  {
   "cell_type": "code",
   "execution_count": 59,
   "id": "b0f6c0b1",
   "metadata": {},
   "outputs": [],
   "source": [
    "def compute_winning_region(model, formula, initial=True):\n",
    "    options = stormpy.pomdp.IterativeQualitativeSearchOptions()\n",
    "    model = stormpy.pomdp.prepare_pomdp_for_qualitative_search_Double(model, formula)\n",
    "    solver = stormpy.pomdp.create_iterative_qualitative_search_solver_Double(model, formula, options)\n",
    "    if initial:\n",
    "        solver.compute_winning_policy_for_initial_states(100)\n",
    "    else:\n",
    "        solver.compute_winning_region(100)\n",
    "    return solver.last_winning_region\n",
    "\n",
    "def construct_otf_shield(model, winning_region):\n",
    "    return stormpy.pomdp.BeliefSupportWinningRegionQueryInterfaceDouble(model, winning_region)\n",
    "\n",
    "def build_pomdp(program, formula):\n",
    "    options = stormpy.BuilderOptions([formula])\n",
    "    options.set_build_state_valuations()\n",
    "    options.set_build_choice_labels()\n",
    "    options.set_build_all_labels()\n",
    "    options.set_build_all_reward_models()\n",
    "    options.set_build_observation_valuations()\n",
    "    return stormpy.build_sparse_model_with_options(program, options)\n"
   ]
  },
  {
   "cell_type": "code",
   "execution_count": 74,
   "id": "c242fb9f",
   "metadata": {},
   "outputs": [
    {
     "name": "stdout",
     "output_type": "stream",
     "text": [
      " WARN (IterativePolicySearch.cpp:376): This code is slow and should only be used for debugging.\n"
     ]
    }
   ],
   "source": [
    "from model_simulator import Tracker\n",
    "from model_simulator import SimulationExecutor\n",
    "\n",
    "prism_program = stormpy.parse_prism_program('storm_files/obstacle.nm')\n",
    "prop = stormpy.parse_properties_for_prism_program(\"Pmax=? [ \\\"notbad\\\" U \\\"goal\\\"]\", prism_program)[0]\n",
    "raw_formula = prop.raw_formula\n",
    "model = build_pomdp(prism_program, raw_formula)\n",
    "model = stormpy.pomdp.make_canonic(model)\n",
    "winning_region = compute_winning_region(model, raw_formula, False)\n",
    "otf_shield = construct_otf_shield(model, winning_region)\n",
    "tracker = Tracker(model, otf_shield)\n",
    "\n"
   ]
  },
  {
   "cell_type": "code",
   "execution_count": 75,
   "id": "eaf9b5cc",
   "metadata": {},
   "outputs": [
    {
     "ename": "ValueError",
     "evalue": "too many values to unpack (expected 2)",
     "output_type": "error",
     "traceback": [
      "\u001b[0;31m---------------------------------------------------------------------------\u001b[0m",
      "\u001b[0;31mValueError\u001b[0m                                Traceback (most recent call last)",
      "Input \u001b[0;32mIn [75]\u001b[0m, in \u001b[0;36m<cell line: 4>\u001b[0;34m()\u001b[0m\n\u001b[1;32m      2\u001b[0m recorder \u001b[38;5;241m=\u001b[39m StatsRecorder(only_keep_finishers\u001b[38;5;241m=\u001b[39m\u001b[38;5;28;01mFalse\u001b[39;00m)\n\u001b[1;32m      3\u001b[0m executor \u001b[38;5;241m=\u001b[39m SimulationExecutor(model, tracker)\n\u001b[0;32m----> 4\u001b[0m \u001b[43mexecutor\u001b[49m\u001b[38;5;241;43m.\u001b[39;49m\u001b[43msimulate\u001b[49m\u001b[43m(\u001b[49m\u001b[43mrecorder\u001b[49m\u001b[43m,\u001b[49m\u001b[43m \u001b[49m\u001b[43mtotal_nr_runs\u001b[49m\u001b[38;5;241;43m=\u001b[39;49m\u001b[38;5;241;43m10\u001b[39;49m\u001b[43m,\u001b[49m\u001b[43m \u001b[49m\u001b[43mnr_good_runs\u001b[49m\u001b[38;5;241;43m=\u001b[39;49m\u001b[38;5;241;43m3\u001b[39;49m\u001b[43m,\u001b[49m\u001b[43m \u001b[49m\u001b[43mmaxsteps\u001b[49m\u001b[38;5;241;43m=\u001b[39;49m\u001b[38;5;241;43m100\u001b[39;49m\u001b[43m)\u001b[49m\n\u001b[1;32m      5\u001b[0m recorder\u001b[38;5;241m.\u001b[39msave(output_path, \u001b[38;5;124mf\u001b[39m\u001b[38;5;124m\"\u001b[39m\u001b[38;5;132;01m{\u001b[39;00mvideoname\u001b[38;5;132;01m}\u001b[39;00m\u001b[38;5;124m\"\u001b[39m)\n",
      "File \u001b[0;32m~/PRISM_Storm_Workshop/model_simulator.py:78\u001b[0m, in \u001b[0;36mSimulationExecutor.simulate\u001b[0;34m(self, recorder, nr_good_runs, total_nr_runs, maxsteps)\u001b[0m\n\u001b[1;32m     76\u001b[0m     action \u001b[38;5;241m=\u001b[39m safe_actions[select_action]\n\u001b[1;32m     77\u001b[0m logger\u001b[38;5;241m.\u001b[39mdebug(\u001b[38;5;124mf\u001b[39m\u001b[38;5;124m\"\u001b[39m\u001b[38;5;124mSelect action: \u001b[39m\u001b[38;5;132;01m{\u001b[39;00maction\u001b[38;5;132;01m}\u001b[39;00m\u001b[38;5;124m\"\u001b[39m)\n\u001b[0;32m---> 78\u001b[0m state, _ \u001b[38;5;241m=\u001b[39m \u001b[38;5;28mself\u001b[39m\u001b[38;5;241m.\u001b[39m_simulator\u001b[38;5;241m.\u001b[39mstep(action)\n\u001b[1;32m     79\u001b[0m \u001b[38;5;28mself\u001b[39m\u001b[38;5;241m.\u001b[39m_shield\u001b[38;5;241m.\u001b[39mtrack(action, \u001b[38;5;28mself\u001b[39m\u001b[38;5;241m.\u001b[39m_model\u001b[38;5;241m.\u001b[39mget_observation(state))\n\u001b[1;32m     80\u001b[0m \u001b[38;5;28;01massert\u001b[39;00m state \u001b[38;5;129;01min\u001b[39;00m \u001b[38;5;28mself\u001b[39m\u001b[38;5;241m.\u001b[39m_shield\u001b[38;5;241m.\u001b[39mlist_support()\n",
      "\u001b[0;31mValueError\u001b[0m: too many values to unpack (expected 2)"
     ]
    }
   ],
   "source": [
    "from rlshield.recorder import LoggingRecorder, VideoRecorder, StatsRecorder\n",
    "recorder = StatsRecorder(only_keep_finishers=False)\n",
    "executor = SimulationExecutor(model, tracker)\n",
    "executor.simulate(recorder, total_nr_runs=10, nr_good_runs=3, maxsteps=100)\n",
    "recorder.save(output_path, f\"{videoname}\")\n"
   ]
  },
  {
   "cell_type": "code",
   "execution_count": null,
   "id": "a616fd95",
   "metadata": {},
   "outputs": [],
   "source": []
  }
 ],
 "metadata": {
  "kernelspec": {
   "display_name": "Python 3 (ipykernel)",
   "language": "python",
   "name": "python3"
  },
  "language_info": {
   "codemirror_mode": {
    "name": "ipython",
    "version": 3
   },
   "file_extension": ".py",
   "mimetype": "text/x-python",
   "name": "python",
   "nbconvert_exporter": "python",
   "pygments_lexer": "ipython3",
   "version": "3.8.10"
  }
 },
 "nbformat": 4,
 "nbformat_minor": 5
}
