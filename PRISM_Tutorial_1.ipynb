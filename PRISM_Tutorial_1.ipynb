{
 "cells": [
  {
   "cell_type": "markdown",
   "id": "2e635eb5",
   "metadata": {},
   "source": [
    "# PRISM Model - DTMC"
   ]
  },
  {
   "cell_type": "code",
   "execution_count": 7,
   "id": "1b5fc7f1",
   "metadata": {},
   "outputs": [
    {
     "name": "stdout",
     "output_type": "stream",
     "text": [
      "PRISM\n",
      "=====\n",
      "\n",
      "Version: 4.7\n",
      "Date: Thu Nov 10 22:04:08 CST 2022\n",
      "Hostname: asg-a36161\n",
      "Memory limits: cudd=1g, java(heap)=1g\n",
      "Command line: prism\n",
      "Usage: prism [options] <model-file> [<properties-file>] [more-options]\n",
      "\n",
      "For more information, type: prism -help\n"
     ]
    },
    {
     "data": {
      "text/plain": [
       "CompletedProcess(args='bash /home/scarr/Downloads/prism-4.7-linux64/bin/prism', returncode=0)"
      ]
     },
     "execution_count": 7,
     "metadata": {},
     "output_type": "execute_result"
    }
   ],
   "source": [
    "import subprocess\n",
    "\n",
    "# Test that PRISM runs\n",
    "prism_dir = '/home/scarr/Downloads/prism-4.7-linux64/bin/'\n",
    "subprocess.run('bash '+prism_dir+'prism',shell=True)"
   ]
  },
  {
   "cell_type": "markdown",
   "id": "b0ce8ad1",
   "metadata": {},
   "source": [
    "## Dice model using coin flips\n",
    "\n",
    "Discrete-time Markov chain"
   ]
  },
  {
   "cell_type": "code",
   "execution_count": 15,
   "id": "5d23b7f1",
   "metadata": {},
   "outputs": [
    {
     "name": "stdout",
     "output_type": "stream",
     "text": [
      "dtmc\n",
      "\n",
      "module die\n",
      "\n",
      "\t// local state\n",
      "\ts : [0..7] init 0;\n",
      "\t// value of the die\n",
      "\td : [0..6] init 0;\n",
      "\t\n",
      "\t[] s=0 -> 0.5 : (s'=1) + 0.5 : (s'=2);\n",
      "\t[] s=1 -> 0.5 : (s'=3) + 0.5 : (s'=4);\n",
      "\t[] s=2 -> 0.5 : (s'=5) + 0.5 : (s'=6);\n",
      "\t[] s=3 -> 0.5 : (s'=1) + 0.5 : (s'=7) & (d'=1);\n",
      "\t[] s=4 -> 0.5 : (s'=7) & (d'=2) + 0.5 : (s'=7) & (d'=3);\n",
      "\t[] s=5 -> 0.5 : (s'=7) & (d'=4) + 0.5 : (s'=7) & (d'=5);\n",
      "\t[] s=6 -> 0.5 : (s'=2) + 0.5 : (s'=7) & (d'=6);\n",
      "\t[] s=7 -> (s'=7);\n",
      "\t\n",
      "endmodule\n",
      "\n",
      "rewards \"coin_flips\"\n",
      "\t[] s<7 : 1;\n",
      "endrewards\n",
      "\n"
     ]
    }
   ],
   "source": [
    "with open('prism_files/dice.pm') as f:\n",
    "    print(f.read())"
   ]
  },
  {
   "cell_type": "markdown",
   "id": "4a9b5027",
   "metadata": {},
   "source": [
    "Property files for use in the tool"
   ]
  },
  {
   "cell_type": "code",
   "execution_count": 14,
   "id": "307eedcd",
   "metadata": {},
   "outputs": [
    {
     "name": "stdout",
     "output_type": "stream",
     "text": [
      "const int x;\n",
      "\n",
      "// Is probability of throwing x > 0.1?\n",
      "P>0.1 [ F s=7 & d=x ]\n",
      "\n",
      "// Probability of throwing 6?\n",
      "P=? [ F s=7 & d=6 ]\n",
      "\n",
      "// Probability of throwing x?\n",
      "P=? [ F s=7 & d=x ]\n",
      "\n",
      "// Expected number of coin flips to complete?\n",
      "R=? [ F s=7 ]\n",
      "\n"
     ]
    }
   ],
   "source": [
    "with open('prism_files/dice.pctl') as f:\n",
    "    print(f.read())"
   ]
  },
  {
   "cell_type": "markdown",
   "id": "dd34fa76",
   "metadata": {},
   "source": [
    "## Run compute properties on the models\n",
    "Define constant in the property x=1\n",
    "\n",
    "prism dice.pm dice.pctl -const x=1"
   ]
  },
  {
   "cell_type": "code",
   "execution_count": 16,
   "id": "c2c023bb",
   "metadata": {},
   "outputs": [
    {
     "name": "stdout",
     "output_type": "stream",
     "text": [
      "PRISM\n",
      "=====\n",
      "\n",
      "Version: 4.7\n",
      "Date: Fri Nov 11 07:41:41 CST 2022\n",
      "Hostname: asg-a36161\n",
      "Memory limits: cudd=1g, java(heap)=1g\n",
      "Command line: prism prism_files/dice.pm prism_files/dice.pctl -const x=1\n",
      "\n",
      "Parsing model file \"prism_files/dice.pm\"...\n",
      "\n",
      "Type:        DTMC\n",
      "Modules:     die \n",
      "Variables:   s d \n",
      "\n",
      "Parsing properties file \"prism_files/dice.pctl\"...\n",
      "\n",
      "4 properties:\n",
      "(1) P>0.1 [ F s=7&d=x ]\n",
      "(2) P=? [ F s=7&d=6 ]\n",
      "(3) P=? [ F s=7&d=x ]\n",
      "(4) R=? [ F s=7 ]\n",
      "\n",
      "---------------------------------------------------------------------\n",
      "\n",
      "Model checking: P>0.1 [ F s=7&d=x ]\n",
      "Property constants: x=1\n",
      "\n",
      "Building model...\n",
      "\n",
      "Computing reachable states...\n",
      "\n",
      "Reachability (BFS): 4 iterations in 0.00 seconds (average 0.000000, setup 0.00)\n",
      "\n",
      "Time for model construction: 0.018 seconds.\n",
      "\n",
      "Type:        DTMC\n",
      "States:      13 (1 initial)\n",
      "Transitions: 20\n",
      "\n",
      "Transition matrix: 71 nodes (3 terminal), 20 minterms, vars: 6r/6c\n",
      "\n",
      "Prob0: 4 iterations in 0.00 seconds (average 0.000000, setup 0.00)\n",
      "\n",
      "Prob1: 3 iterations in 0.00 seconds (average 0.000000, setup 0.00)\n",
      "\n",
      "yes = 1, no = 9, maybe = 3\n",
      "\n",
      "Computing remaining probabilities...\n",
      "Engine: Hybrid\n",
      "\n",
      "Building hybrid MTBDD matrix... [levels=6, nodes=30] [1.4 KB]\n",
      "Adding explicit sparse matrices... [levels=6, num=1, compact] [0.0 KB]\n",
      "Creating vector for diagonals... [dist=1, compact] [0.0 KB]\n",
      "Creating vector for RHS... [dist=2, compact] [0.0 KB]\n",
      "Allocating iteration vectors... [2 x 0.1 KB]\n",
      "TOTAL: [1.7 KB]\n",
      "\n",
      "Starting iterations...\n",
      "\n",
      "Jacobi: 22 iterations in 0.00 seconds (average 0.000000, setup 0.00)\n",
      "\n",
      "Property satisfied in 1 of 1 initial states.\n",
      "\n",
      "Time for model checking: 0.005 seconds.\n",
      "\n",
      "Result: true\n",
      "\n",
      "---------------------------------------------------------------------\n",
      "\n",
      "Model checking: P=? [ F s=7&d=6 ]\n",
      "\n",
      "Prob0: 4 iterations in 0.00 seconds (average 0.000000, setup 0.00)\n",
      "\n",
      "Prob1: 3 iterations in 0.00 seconds (average 0.000000, setup 0.00)\n",
      "\n",
      "yes = 1, no = 9, maybe = 3\n",
      "\n",
      "Computing remaining probabilities...\n",
      "Engine: Hybrid\n",
      "\n",
      "Building hybrid MTBDD matrix... [levels=6, nodes=32] [1.5 KB]\n",
      "Adding explicit sparse matrices... [levels=6, num=1, compact] [0.0 KB]\n",
      "Creating vector for diagonals... [dist=1, compact] [0.0 KB]\n",
      "Creating vector for RHS... [dist=2, compact] [0.0 KB]\n",
      "Allocating iteration vectors... [2 x 0.1 KB]\n",
      "TOTAL: [1.8 KB]\n",
      "\n",
      "Starting iterations...\n",
      "\n",
      "Jacobi: 22 iterations in 0.00 seconds (average 0.000000, setup 0.00)\n",
      "\n",
      "Value in the initial state: 0.16666650772094727\n",
      "\n",
      "Time for model checking: 0.003 seconds.\n",
      "\n",
      "Result: 0.16666650772094727 (+/- 1.1920928955078125E-6 estimated; rel err 7.1525641942636435E-6)\n",
      "\n",
      "---------------------------------------------------------------------\n",
      "\n",
      "Model checking: P=? [ F s=7&d=x ]\n",
      "Property constants: x=1\n",
      "\n",
      "Prob0: 4 iterations in 0.00 seconds (average 0.000000, setup 0.00)\n",
      "\n",
      "Prob1: 3 iterations in 0.00 seconds (average 0.000000, setup 0.00)\n",
      "\n",
      "yes = 1, no = 9, maybe = 3\n",
      "\n",
      "Computing remaining probabilities...\n",
      "Engine: Hybrid\n",
      "\n",
      "Building hybrid MTBDD matrix... [levels=6, nodes=30] [1.4 KB]\n",
      "Adding explicit sparse matrices... [levels=6, num=1, compact] [0.0 KB]\n",
      "Creating vector for diagonals... [dist=1, compact] [0.0 KB]\n",
      "Creating vector for RHS... [dist=2, compact] [0.0 KB]\n",
      "Allocating iteration vectors... [2 x 0.1 KB]\n",
      "TOTAL: [1.7 KB]\n",
      "\n",
      "Starting iterations...\n",
      "\n",
      "Jacobi: 22 iterations in 0.00 seconds (average 0.000000, setup 0.00)\n",
      "\n",
      "Value in the initial state: 0.16666650772094727\n",
      "\n",
      "Time for model checking: 0.001 seconds.\n",
      "\n",
      "Result: 0.16666650772094727 (+/- 1.1920928955078125E-6 estimated; rel err 7.1525641942636435E-6)\n",
      "\n",
      "---------------------------------------------------------------------\n",
      "\n",
      "Model checking: R=? [ F s=7 ]\n",
      "\n",
      "Prob0: 4 iterations in 0.00 seconds (average 0.000000, setup 0.00)\n",
      "\n",
      "Prob1: 1 iterations in 0.00 seconds (average 0.000000, setup 0.00)\n",
      "\n",
      "goal = 6, inf = 0, maybe = 7\n",
      "\n",
      "Computing remaining rewards...\n",
      "Engine: Hybrid\n",
      "\n",
      "Building hybrid MTBDD matrix... [levels=6, nodes=57] [2.7 KB]\n",
      "Adding explicit sparse matrices... [levels=6, num=1, compact] [0.1 KB]\n",
      "Creating vector for diagonals... [dist=1, compact] [0.0 KB]\n",
      "Creating vector for RHS... [dist=2, compact] [0.0 KB]\n",
      "Allocating iteration vectors... [2 x 0.1 KB]\n",
      "TOTAL: [3.0 KB]\n",
      "\n",
      "Starting iterations...\n",
      "\n",
      "Jacobi: 21 iterations in 0.00 seconds (average 0.000000, setup 0.00)\n",
      "\n",
      "Value in the initial state: 3.6666650772094727\n",
      "\n",
      "Time for model checking: 0.001 seconds.\n",
      "\n",
      "Result: 3.6666650772094727 (+/- 1.3113023982215415E-5 estimated; rel err 3.5762808181529153E-6)\n",
      "\n"
     ]
    },
    {
     "data": {
      "text/plain": [
       "CompletedProcess(args='bash /home/scarr/Downloads/prism-4.7-linux64/bin/prism prism_files/dice.pm prism_files/dice.pctl -const x=1', returncode=0)"
      ]
     },
     "execution_count": 16,
     "metadata": {},
     "output_type": "execute_result"
    }
   ],
   "source": [
    "subprocess.run('bash '+prism_dir+'prism '+'prism_files/dice.pm prism_files/dice.pctl -const x=1',shell=True)"
   ]
  },
  {
   "cell_type": "markdown",
   "id": "11156b7e",
   "metadata": {},
   "source": [
    "## Run GUI"
   ]
  },
  {
   "cell_type": "code",
   "execution_count": 13,
   "id": "1d00face",
   "metadata": {},
   "outputs": [
    {
     "data": {
      "text/plain": [
       "CompletedProcess(args='bash /home/scarr/Downloads/prism-4.7-linux64/bin/xprism', returncode=0)"
      ]
     },
     "execution_count": 13,
     "metadata": {},
     "output_type": "execute_result"
    }
   ],
   "source": [
    "subprocess.run('bash '+prism_dir+'xprism',shell=True)"
   ]
  },
  {
   "cell_type": "code",
   "execution_count": null,
   "id": "684614be",
   "metadata": {},
   "outputs": [],
   "source": []
  }
 ],
 "metadata": {
  "kernelspec": {
   "display_name": "Python 3 (ipykernel)",
   "language": "python",
   "name": "python3"
  },
  "language_info": {
   "codemirror_mode": {
    "name": "ipython",
    "version": 3
   },
   "file_extension": ".py",
   "mimetype": "text/x-python",
   "name": "python",
   "nbconvert_exporter": "python",
   "pygments_lexer": "ipython3",
   "version": "3.8.10"
  }
 },
 "nbformat": 4,
 "nbformat_minor": 5
}
