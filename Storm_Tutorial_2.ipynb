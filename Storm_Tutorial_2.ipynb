{
 "cells": [
  {
   "cell_type": "markdown",
   "id": "6073f2d3",
   "metadata": {},
   "source": [
    "# Stormpy Parametric Instantiator"
   ]
  },
  {
   "cell_type": "code",
   "execution_count": 6,
   "id": "4cd09748",
   "metadata": {},
   "outputs": [
    {
     "name": "stdout",
     "output_type": "stream",
     "text": [
      "// Knuth's model of a fair die using only fair coins\n",
      "dtmc\n",
      "\n",
      "const double p;\n",
      "const double q;\n",
      "\n",
      "module die\n",
      "\n",
      "\t// local state\n",
      "\ts : [0..7] init 0;\n",
      "\t// value of the dice\n",
      "\td : [0..6] init 0;\n",
      "\t\n",
      "\t[] s=0 -> p : (s'=1) + (1-p) : (s'=2);\n",
      "\t[] s=1 -> q : (s'=3) + (1-q) : (s'=4);\n",
      "\t[] s=2 -> q : (s'=5) + (1-q) : (s'=6);\n",
      "\t[] s=3 -> p : (s'=1) + (1-p) : (s'=7) & (d'=1);\n",
      "\t[] s=4 -> p : (s'=7) & (d'=2) + (1-p) : (s'=7) & (d'=3);\n",
      "\t[] s=5 -> p : (s'=7) & (d'=4) + (1-p) : (s'=7) & (d'=5);\n",
      "\t[] s=6 -> p : (s'=2) + (1-p) : (s'=7) & (d'=6);\n",
      "\t[] s=7 -> 1: (s'=7);\n",
      "\t\n",
      "endmodule\n",
      "\n",
      "rewards \"coin_flips\"\n",
      "\t[] s<7 : 1;\n",
      "endrewards\n",
      "\n",
      "label \"one\" = s=7&d=1;\n",
      "label \"two\" = s=7&d=2;\n",
      "label \"three\" = s=7&d=3;\n",
      "label \"four\" = s=7&d=4;\n",
      "label \"five\" = s=7&d=5;\n",
      "label \"six\" = s=7&d=6;\n",
      "label \"done\" = s=7;\n",
      "\n"
     ]
    }
   ],
   "source": [
    "with open('storm_files/parametric_die.pm') as f:\n",
    "    print(f.read())"
   ]
  },
  {
   "cell_type": "code",
   "execution_count": 7,
   "id": "ac2c07b3",
   "metadata": {},
   "outputs": [
    {
     "name": "stdout",
     "output_type": "stream",
     "text": [
      "-------------------------------------------------------------- \n",
      "Model type: \tDTMC (sparse)\n",
      "States: \t13\n",
      "Transitions: \t20\n",
      "Reward Models:  none\n",
      "State Labels: \t3 labels\n",
      "   * deadlock -> 0 item(s)\n",
      "   * init -> 1 item(s)\n",
      "   * ((s = 7) & (d = 2)) -> 1 item(s)\n",
      "Choice Labels: \tnone\n",
      "-------------------------------------------------------------- \n",
      "\n",
      "p\n",
      "q\n"
     ]
    }
   ],
   "source": [
    "import stormpy\n",
    "prism_program = stormpy.parse_prism_program('storm_files/parametric_die.pm')\n",
    "formula_str = \"P=? [F s=7 & d=2]\"\n",
    "properties = stormpy.parse_properties(formula_str, prism_program)\n",
    "model = stormpy.build_parametric_model(prism_program, properties)\n",
    "print(model)\n",
    "parameters = model.collect_probability_parameters()\n",
    "for x in parameters:\n",
    "     print(x)"
   ]
  },
  {
   "cell_type": "code",
   "execution_count": 10,
   "id": "5b5e0d96",
   "metadata": {},
   "outputs": [
    {
     "name": "stdout",
     "output_type": "stream",
     "text": [
      "0.11428571428571428\n"
     ]
    }
   ],
   "source": [
    "import stormpy.pars\n",
    "instantiator = stormpy.pars.PDtmcInstantiator(model)\n",
    "point = dict()\n",
    "for x in parameters:\n",
    "    point[x] = 0.4\n",
    "rational_parameter_assignments = dict([[x, stormpy.RationalRF(val)] for x, val in point.items()])\n",
    "instantiated_model = instantiator.instantiate(rational_parameter_assignments)\n",
    "result = stormpy.model_checking(instantiated_model, properties[0])\n",
    "print(result.at(0))"
   ]
  },
  {
   "cell_type": "markdown",
   "id": "e288d324",
   "metadata": {},
   "source": [
    "### Symbolic model"
   ]
  },
  {
   "cell_type": "code",
   "execution_count": 12,
   "id": "7dd4b626",
   "metadata": {},
   "outputs": [
    {
     "name": "stdout",
     "output_type": "stream",
     "text": [
      "((p)^2 * (q+(-1)))/(p*q+(-1))\n"
     ]
    }
   ],
   "source": [
    "result = stormpy.model_checking(model, properties[0])\n",
    "initial_state = model.initial_states[0]\n",
    "func = result.at(initial_state)\n",
    "print(func)"
   ]
  },
  {
   "cell_type": "code",
   "execution_count": null,
   "id": "be20615d",
   "metadata": {},
   "outputs": [],
   "source": []
  }
 ],
 "metadata": {
  "kernelspec": {
   "display_name": "Python 3 (ipykernel)",
   "language": "python",
   "name": "python3"
  },
  "language_info": {
   "codemirror_mode": {
    "name": "ipython",
    "version": 3
   },
   "file_extension": ".py",
   "mimetype": "text/x-python",
   "name": "python",
   "nbconvert_exporter": "python",
   "pygments_lexer": "ipython3",
   "version": "3.8.10"
  }
 },
 "nbformat": 4,
 "nbformat_minor": 5
}
